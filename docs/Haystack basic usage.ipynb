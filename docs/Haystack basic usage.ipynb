{
 "metadata": {
  "name": ""
 },
 "nbformat": 3,
 "nbformat_minor": 0,
 "worksheets": [
  {
   "cells": [
    {
     "cell_type": "markdown",
     "metadata": {},
     "source": [
      "Let's look at a basic usage example for Haystack.\n",
      "\n",
      "First we have a program which allocates structures on the HEAP:"
     ]
    },
    {
     "cell_type": "code",
     "collapsed": true,
     "input": [
      "!cat ../test/src/test-ctypes3.c"
     ],
     "language": "python",
     "metadata": {},
     "outputs": [
      {
       "output_type": "stream",
       "stream": "stdout",
       "text": [
        "/*\r\n",
        "    Simple test of multiple simple structures allocations.\r\n",
        "*/\r\n",
        "\r\n",
        "#include <stdio.h>\r\n",
        "#include <stdlib.h>\r\n",
        "#include <unistd.h>\r\n",
        "#include <sys/types.h>\r\n",
        "#include <dlfcn.h>\r\n",
        "#include <stdbool.h>\r\n",
        "\r\n",
        "struct test3\r\n",
        "{\r\n",
        "  unsigned int val1;\r\n",
        "  unsigned int val2;\r\n",
        "  unsigned int * me;\r\n",
        "  unsigned int val2b;\r\n",
        "  unsigned int val1b;\r\n",
        "};\r\n",
        "\r\n",
        "struct Node {\r\n",
        "  unsigned int val1;\r\n",
        "  void * ptr2;\r\n",
        "};\r\n",
        "\r\n",
        "int test3(){\r\n",
        "  struct test3 * t3;\r\n",
        "  t3 = (struct test3 *) malloc(sizeof(struct test3));\r\n",
        "  t3->val1 = 0xdeadbeef;\r\n",
        "  t3->val1b = 0xdeadbeef;\r\n",
        "  t3->val2 = 0x10101010;\r\n",
        "  t3->val2b = 0x10101010;\r\n",
        "  t3->me = (unsigned int *) t3;\r\n",
        "  printf(\"test3 %p\\n\",t3);\r\n",
        "  \r\n",
        "  return 0;\r\n",
        "}\r\n",
        "\r\n",
        "int test1(){\r\n",
        "  struct Node * node;\r\n",
        "  node = (struct Node *) malloc(sizeof(struct Node));\r\n",
        "  node->val1 = 0xdeadbeef;\r\n",
        "  node->ptr2 = node;\r\n",
        "  printf(\"test1 %p\\n\",node);\r\n",
        "  \r\n",
        "  return 0;\r\n",
        "}\r\n",
        "\r\n",
        "\r\n",
        "int main(){\r\n",
        "\r\n",
        "  // TEST\r\n",
        "  test1();\r\n",
        "  test3();\r\n",
        "  test1();\r\n",
        "  test3();\r\n",
        "  test1();\r\n",
        "  test3();\r\n",
        "  \r\n",
        "  printf(\"pid %u\\n\",getpid());\r\n",
        "  fflush(stdout);\r\n",
        "  sleep(-1);\r\n",
        "  \r\n",
        "  return 0;\r\n",
        "}\r\n",
        "\r\n",
        "\r\n"
       ]
      }
     ],
     "prompt_number": 1
    },
    {
     "cell_type": "markdown",
     "metadata": {},
     "source": [
      "Then, using ctypeslib, we have generated python ctypes records for the same structures."
     ]
    },
    {
     "cell_type": "code",
     "collapsed": false,
     "input": [
      "!clang2py ../test/src/test-ctypes3.c #-o ../test/src/clang3_gen64.py"
     ],
     "language": "python",
     "metadata": {},
     "outputs": [
      {
       "output_type": "stream",
       "stream": "stdout",
       "text": [
        "find_library(\"clang-3.7\") libclang-3.7.so.1\r\n",
        "find_library(\"clang\") libclang.so.1\r\n"
       ]
      },
      {
       "output_type": "stream",
       "stream": "stdout",
       "text": [
        "# -*- coding: utf-8 -*-\r\n",
        "#\r\n",
        "# TARGET arch is: []\r\n",
        "# WORD_SIZE is: 8\r\n",
        "# POINTER_SIZE is: 8\r\n",
        "# LONGDOUBLE_SIZE is: 16\r\n",
        "#\r\n",
        "import ctypes\r\n",
        "\r\n",
        "\r\n",
        "# if local wordsize is same as target, keep ctypes pointer function.\r\n",
        "if ctypes.sizeof(ctypes.c_void_p) == 8:\r\n",
        "    POINTER_T = ctypes.POINTER\r\n",
        "else:\r\n",
        "    # required to access _ctypes\r\n",
        "    import _ctypes\r\n",
        "    # Emulate a pointer class using the approriate c_int32/c_int64 type\r\n",
        "    # The new class should have :\r\n",
        "    # ['__module__', 'from_param', '_type_', '__dict__', '__weakref__', '__doc__']\r\n",
        "    # but the class should be submitted to a unique instance for each base type\r\n",
        "    # to that if A == B, POINTER_T(A) == POINTER_T(B)\r\n",
        "    ctypes._pointer_t_type_cache = {}\r\n",
        "    def POINTER_T(pointee):\r\n",
        "        # a pointer should have the same length as LONG\r\n",
        "        fake_ptr_base_type = ctypes.c_uint64 \r\n",
        "        # specific case for c_void_p\r\n",
        "        if pointee is None: # VOID pointer type. c_void_p.\r\n",
        "            pointee = type(None) # ctypes.c_void_p # ctypes.c_ulong\r\n",
        "            clsname = 'c_void'\r\n",
        "        else:\r\n",
        "            clsname = pointee.__name__\r\n",
        "        if clsname in ctypes._pointer_t_type_cache:\r\n",
        "            return ctypes._pointer_t_type_cache[clsname]\r\n",
        "        # make template\r\n",
        "        class _T(_ctypes._SimpleCData,):\r\n",
        "            _type_ = 'L'\r\n",
        "            _subtype_ = pointee\r\n",
        "            def _sub_addr_(self):\r\n",
        "                return self.value\r\n",
        "            def __repr__(self):\r\n",
        "                return '%s(%d)'%(clsname, self.value)\r\n",
        "            def contents(self):\r\n",
        "                raise TypeError('This is not a ctypes pointer.')\r\n",
        "            def __init__(self, **args):\r\n",
        "                raise TypeError('This is not a ctypes pointer. It is not instanciable.')\r\n",
        "        _class = type('LP_%d_%s'%(8, clsname), (_T,),{}) \r\n",
        "        ctypes._pointer_t_type_cache[clsname] = _class\r\n",
        "        return _class\r\n",
        "\r\n",
        "c_int128 = ctypes.c_ubyte*16\r\n",
        "c_uint128 = c_int128\r\n",
        "void = None\r\n",
        "if ctypes.sizeof(ctypes.c_longdouble) == 16:\r\n",
        "    c_long_double_t = ctypes.c_longdouble\r\n",
        "else:\r\n",
        "    c_long_double_t = ctypes.c_ubyte*16\r\n",
        "\r\n",
        "\r\n",
        "\r\n",
        "class struct_test3(ctypes.Structure):\r\n",
        "    _pack_ = True # source:False\r\n",
        "    _fields_ = [\r\n",
        "    ('val1', ctypes.c_uint32),\r\n",
        "    ('val2', ctypes.c_uint32),\r\n",
        "    ('me', POINTER_T(ctypes.c_uint32)),\r\n",
        "    ('val2b', ctypes.c_uint32),\r\n",
        "    ('val1b', ctypes.c_uint32),\r\n",
        "     ]\r\n",
        "\r\n",
        "class struct_Node(ctypes.Structure):\r\n",
        "    _pack_ = True # source:False\r\n",
        "    _fields_ = [\r\n",
        "    ('val1', ctypes.c_uint32),\r\n",
        "    ('PADDING_0', ctypes.c_ubyte * 4),\r\n",
        "    ('ptr2', POINTER_T(None)),\r\n",
        "     ]\r\n",
        "\r\n",
        "__all__ = \\\r\n",
        "    ['struct_Node', 'struct_test3']\r\n"
       ]
      }
     ],
     "prompt_number": 2
    },
    {
     "cell_type": "markdown",
     "metadata": {},
     "source": [
      "We have run the compiled C program, and dumped its memory mappings to files:"
     ]
    },
    {
     "cell_type": "code",
     "collapsed": false,
     "input": [
      "!ls -hsw 1 ../test/src/test-ctypes3.64.dump/"
     ],
     "language": "python",
     "metadata": {},
     "outputs": [
      {
       "output_type": "stream",
       "stream": "stdout",
       "text": [
        "total 2,3M\r\n",
        "4,0K 0x0000000000400000-0x0000000000401000\r\n",
        "4,0K 0x0000000000600000-0x0000000000601000\r\n",
        "4,0K 0x0000000000601000-0x0000000000602000\r\n",
        "132K 0x000000000202a000-0x000000000204b000\r\n",
        "140K 0x00002accd45d3000-0x00002accd45f6000\r\n",
        " 12K 0x00002accd45f6000-0x00002accd45f9000\r\n",
        " 12K 0x00002accd461b000-0x00002accd461e000\r\n",
        "4,0K 0x00002accd47f5000-0x00002accd47f6000\r\n",
        "4,0K 0x00002accd47f6000-0x00002accd47f7000\r\n",
        "4,0K 0x00002accd47f7000-0x00002accd47f8000\r\n",
        " 12K 0x00002accd47f8000-0x00002accd47fb000\r\n",
        "4,0K 0x00002accd49fa000-0x00002accd49fb000\r\n",
        "4,0K 0x00002accd49fb000-0x00002accd49fc000\r\n",
        "1,8M 0x00002accd49fc000-0x00002accd4bb7000\r\n",
        " 16K 0x00002accd4db6000-0x00002accd4dba000\r\n",
        "8,0K 0x00002accd4dba000-0x00002accd4dbc000\r\n",
        " 20K 0x00002accd4dbc000-0x00002accd4dc1000\r\n",
        "132K 0x00007fffee22b000-0x00007fffee24c000\r\n",
        "4,0K mappings\r\n"
       ]
      }
     ],
     "prompt_number": 3
    },
    {
     "cell_type": "markdown",
     "metadata": {},
     "source": [
      "Let's load that memory dump in haystack."
     ]
    },
    {
     "cell_type": "code",
     "collapsed": false,
     "input": [
      "import haystack\n",
      "memdumpname = '../test/src/test-ctypes3.64.dump'\n",
      "# we need a memory dump loader\n",
      "from haystack import dump_loader\n",
      "memory_handler = dump_loader.load(memdumpname)\n",
      "print memory_handler"
     ],
     "language": "python",
     "metadata": {},
     "outputs": [
      {
       "output_type": "stream",
       "stream": "stdout",
       "text": [
        "<MemoryHandler for ../test/src/test-ctypes3.64.dump with 18 mappings>\n"
       ]
      }
     ],
     "prompt_number": 4
    },
    {
     "cell_type": "markdown",
     "metadata": {},
     "source": [
      "Now the first feature of haystack is to search a specific structure in memory."
     ]
    },
    {
     "cell_type": "code",
     "collapsed": false,
     "input": [
      "# we need to add our test path to the env\n",
      "import sys\n",
      "sys.path.append('../test/src/')\n",
      "py_modulename = 'ctypes3_gen64'\n",
      "\n",
      "# load this module with haystack\n",
      "my_model = memory_handler.get_model()\n",
      "test3 = my_model.import_module(\"ctypes3_gen64\")\n",
      "print test3.__dict__.keys()\n"
     ],
     "language": "python",
     "metadata": {},
     "outputs": [
      {
       "output_type": "stream",
       "stream": "stdout",
       "text": [
        "['struct_Node', 'c_int128', '__all__', '__builtins__', '__file__', 'c_uint128', 'struct_test3', '__package__', 'ctypes', 'void', 'POINTER_T', '__name__', 'c_long_double_t', '__doc__']\n"
       ]
      }
     ],
     "prompt_number": 5
    },
    {
     "cell_type": "markdown",
     "metadata": {},
     "source": [
      "Now we can search for the structure in memory."
     ]
    },
    {
     "cell_type": "code",
     "collapsed": false,
     "input": [
      "py_class = test3.struct_Node\n",
      "results = haystack.search_record(memory_handler, py_class)\n",
      "print results"
     ],
     "language": "python",
     "metadata": {},
     "outputs": [
      {
       "output_type": "stream",
       "stream": "stdout",
       "text": [
        "[(# <struct_Node at @202a010>\n",
        ", 33726480), (# <struct_Node at @202a018>\n",
        ", 33726488), (# <struct_Node at @202a030>\n",
        ", 33726512), (# <struct_Node at @202a050>\n",
        ", 33726544), (# <struct_Node at @202a058>\n",
        ", 33726552), (# <struct_Node at @202a070>\n",
        ", 33726576), (# <struct_Node at @202a090>\n",
        ", 33726608), (# <struct_Node at @202a098>\n",
        ", 33726616), (# <struct_Node at @202a0b0>\n",
        ", 33726640), (# <struct_Node at @202a0c8>\n",
        ", 33726664)]\n"
       ]
      }
     ],
     "prompt_number": 6
    },
    {
     "cell_type": "markdown",
     "metadata": {},
     "source": [
      "The output is a list of ctypes records and their memory offset.\n",
      "We can also get a better formatted string output:"
     ]
    },
    {
     "cell_type": "code",
     "collapsed": false,
     "input": [
      "out = haystack.output_to_string(memory_handler, results)\n",
      "print out"
     ],
     "language": "python",
     "metadata": {},
     "outputs": [
      {
       "output_type": "stream",
       "stream": "stdout",
       "text": [
        "[# --------------- 0x202a010 \n",
        "{ # <struct_Node at 0x202a010>\n",
        "\"val1\": 3735928559L, # c_uint\n",
        "\"PADDING_0\": [0L, 0L, 0L, 0L],\n",
        "\"ptr2\": 0x000000000202a010,\n",
        "}# --------------- 0x202a018 \n",
        "{ # <struct_Node at 0x202a018>\n",
        "\"val1\": 33726480L, # c_uint\n",
        "\"PADDING_0\": [0L, 0L, 0L, 0L],\n",
        "\"ptr2\": 0x0000000000000000,\n",
        "}# --------------- 0x202a030 \n",
        "{ # <struct_Node at 0x202a030>\n",
        "\"val1\": 3735928559L, # c_uint\n",
        "\"PADDING_0\": [16L, 16L, 16L, 16L],\n",
        "\"ptr2\": 0x000000000202a030,\n",
        "}# --------------- 0x202a050 \n",
        "{ # <struct_Node at 0x202a050>\n",
        "\"val1\": 3735928559L, # c_uint\n",
        "\"PADDING_0\": [0L, 0L, 0L, 0L],\n",
        "\"ptr2\": 0x000000000202a050,\n",
        "}# --------------- 0x202a058 \n",
        "{ # <struct_Node at 0x202a058>\n",
        "\"val1\": 33726544L, # c_uint\n",
        "\"PADDING_0\": [0L, 0L, 0L, 0L],\n",
        "\"ptr2\": 0x0000000000000000,\n",
        "}# --------------- 0x202a070 \n",
        "{ # <struct_Node at 0x202a070>\n",
        "\"val1\": 3735928559L, # c_uint\n",
        "\"PADDING_0\": [16L, 16L, 16L, 16L],\n",
        "\"ptr2\": 0x000000000202a070,\n",
        "}# --------------- 0x202a090 \n",
        "{ # <struct_Node at 0x202a090>\n",
        "\"val1\": 3735928559L, # c_uint\n",
        "\"PADDING_0\": [0L, 0L, 0L, 0L],\n",
        "\"ptr2\": 0x000000000202a090,\n",
        "}# --------------- 0x202a098 \n",
        "{ # <struct_Node at 0x202a098>\n",
        "\"val1\": 33726608L, # c_uint\n",
        "\"PADDING_0\": [0L, 0L, 0L, 0L],\n",
        "\"ptr2\": 0x0000000000000000,\n",
        "}# --------------- 0x202a0b0 \n",
        "{ # <struct_Node at 0x202a0b0>\n",
        "\"val1\": 3735928559L, # c_uint\n",
        "\"PADDING_0\": [16L, 16L, 16L, 16L],\n",
        "\"ptr2\": 0x000000000202a0b0,\n",
        "}# --------------- 0x202a0c8 \n",
        "{ # <struct_Node at 0x202a0c8>\n",
        "\"val1\": 134977L, # c_uint\n",
        "\"PADDING_0\": [0L, 0L, 0L, 0L],\n",
        "\"ptr2\": 0x0000000000000000,\n",
        "}]\n"
       ]
      }
     ],
     "prompt_number": 7
    },
    {
     "cell_type": "markdown",
     "metadata": {},
     "source": [
      "Or even a translation of these records to plain old python dynamically generated objects."
     ]
    },
    {
     "cell_type": "code",
     "collapsed": false,
     "input": [
      "out = haystack.output_to_python(memory_handler, results)\n",
      "print out"
     ],
     "language": "python",
     "metadata": {},
     "outputs": [
      {
       "ename": "NameError",
       "evalue": "global name 'types' is not defined",
       "output_type": "pyerr",
       "traceback": [
        "\u001b[0;31m---------------------------------------------------------------------------\u001b[0m\n\u001b[0;31mNameError\u001b[0m                                 Traceback (most recent call last)",
        "\u001b[0;32m<ipython-input-8-917ca3a8239c>\u001b[0m in \u001b[0;36m<module>\u001b[0;34m()\u001b[0m\n\u001b[0;32m----> 1\u001b[0;31m \u001b[0mout\u001b[0m \u001b[0;34m=\u001b[0m \u001b[0mhaystack\u001b[0m\u001b[0;34m.\u001b[0m\u001b[0moutput_to_python\u001b[0m\u001b[0;34m(\u001b[0m\u001b[0mmemory_handler\u001b[0m\u001b[0;34m,\u001b[0m \u001b[0mresults\u001b[0m\u001b[0;34m)\u001b[0m\u001b[0;34m\u001b[0m\u001b[0m\n\u001b[0m\u001b[1;32m      2\u001b[0m \u001b[0;32mprint\u001b[0m \u001b[0mout\u001b[0m\u001b[0;34m\u001b[0m\u001b[0m\n",
        "\u001b[0;32m/home/other/Compil/python-haystack/haystack/search/api.py\u001b[0m in \u001b[0;36moutput_to_python\u001b[0;34m(memory_handler, results)\u001b[0m\n\u001b[1;32m     66\u001b[0m     \u001b[0mret\u001b[0m \u001b[0;34m=\u001b[0m \u001b[0;34m[\u001b[0m\u001b[0;34m(\u001b[0m\u001b[0mparser\u001b[0m\u001b[0;34m.\u001b[0m\u001b[0mparse\u001b[0m\u001b[0;34m(\u001b[0m\u001b[0mss\u001b[0m\u001b[0;34m)\u001b[0m\u001b[0;34m,\u001b[0m \u001b[0maddr\u001b[0m\u001b[0;34m)\u001b[0m \u001b[0;32mfor\u001b[0m \u001b[0mss\u001b[0m\u001b[0;34m,\u001b[0m \u001b[0maddr\u001b[0m \u001b[0;32min\u001b[0m \u001b[0mresults\u001b[0m\u001b[0;34m]\u001b[0m\u001b[0;34m\u001b[0m\u001b[0m\n\u001b[1;32m     67\u001b[0m     \u001b[0;31m# last check to clean the structure from any ctypes Structure\u001b[0m\u001b[0;34m\u001b[0m\u001b[0;34m\u001b[0m\u001b[0m\n\u001b[0;32m---> 68\u001b[0;31m     \u001b[0;32mif\u001b[0m \u001b[0mpython\u001b[0m\u001b[0;34m.\u001b[0m\u001b[0mfindCtypesInPyObj\u001b[0m\u001b[0;34m(\u001b[0m\u001b[0mmemory_handler\u001b[0m\u001b[0;34m,\u001b[0m \u001b[0mret\u001b[0m\u001b[0;34m)\u001b[0m\u001b[0;34m:\u001b[0m\u001b[0;34m\u001b[0m\u001b[0m\n\u001b[0m\u001b[1;32m     69\u001b[0m         raise HaystackError(\n\u001b[1;32m     70\u001b[0m             'Bug in framework, some Ctypes are still in the return results. Please Report test unit.')\n",
        "\u001b[0;32m/home/other/Compil/python-haystack/haystack/outputters/python.pyc\u001b[0m in \u001b[0;36mfindCtypesInPyObj\u001b[0;34m(memory_handler, obj)\u001b[0m\n\u001b[1;32m    242\u001b[0m     \u001b[0;32melif\u001b[0m \u001b[0misinstance\u001b[0m\u001b[0;34m(\u001b[0m\u001b[0mobj\u001b[0m\u001b[0;34m,\u001b[0m \u001b[0mtuple\u001b[0m\u001b[0;34m)\u001b[0m \u001b[0;32mor\u001b[0m \u001b[0misinstance\u001b[0m\u001b[0;34m(\u001b[0m\u001b[0mobj\u001b[0m\u001b[0;34m,\u001b[0m \u001b[0mlist\u001b[0m\u001b[0;34m)\u001b[0m\u001b[0;34m:\u001b[0m\u001b[0;34m\u001b[0m\u001b[0m\n\u001b[1;32m    243\u001b[0m         \u001b[0;32mfor\u001b[0m \u001b[0mel\u001b[0m \u001b[0;32min\u001b[0m \u001b[0mobj\u001b[0m\u001b[0;34m:\u001b[0m\u001b[0;34m\u001b[0m\u001b[0m\n\u001b[0;32m--> 244\u001b[0;31m             \u001b[0;32mif\u001b[0m \u001b[0mfindCtypesInPyObj\u001b[0m\u001b[0;34m(\u001b[0m\u001b[0mmemory_handler\u001b[0m\u001b[0;34m,\u001b[0m \u001b[0mel\u001b[0m\u001b[0;34m)\u001b[0m\u001b[0;34m:\u001b[0m\u001b[0;34m\u001b[0m\u001b[0m\n\u001b[0m\u001b[1;32m    245\u001b[0m                 \u001b[0mlog\u001b[0m\u001b[0;34m.\u001b[0m\u001b[0mwarning\u001b[0m\u001b[0;34m(\u001b[0m\u001b[0;34m'Found a self._ctypes in array/tuple'\u001b[0m\u001b[0;34m)\u001b[0m\u001b[0;34m\u001b[0m\u001b[0m\n\u001b[1;32m    246\u001b[0m                 \u001b[0;32mreturn\u001b[0m \u001b[0mTrue\u001b[0m\u001b[0;34m\u001b[0m\u001b[0m\n",
        "\u001b[0;32m/home/other/Compil/python-haystack/haystack/outputters/python.pyc\u001b[0m in \u001b[0;36mfindCtypesInPyObj\u001b[0;34m(memory_handler, obj)\u001b[0m\n\u001b[1;32m    242\u001b[0m     \u001b[0;32melif\u001b[0m \u001b[0misinstance\u001b[0m\u001b[0;34m(\u001b[0m\u001b[0mobj\u001b[0m\u001b[0;34m,\u001b[0m \u001b[0mtuple\u001b[0m\u001b[0;34m)\u001b[0m \u001b[0;32mor\u001b[0m \u001b[0misinstance\u001b[0m\u001b[0;34m(\u001b[0m\u001b[0mobj\u001b[0m\u001b[0;34m,\u001b[0m \u001b[0mlist\u001b[0m\u001b[0;34m)\u001b[0m\u001b[0;34m:\u001b[0m\u001b[0;34m\u001b[0m\u001b[0m\n\u001b[1;32m    243\u001b[0m         \u001b[0;32mfor\u001b[0m \u001b[0mel\u001b[0m \u001b[0;32min\u001b[0m \u001b[0mobj\u001b[0m\u001b[0;34m:\u001b[0m\u001b[0;34m\u001b[0m\u001b[0m\n\u001b[0;32m--> 244\u001b[0;31m             \u001b[0;32mif\u001b[0m \u001b[0mfindCtypesInPyObj\u001b[0m\u001b[0;34m(\u001b[0m\u001b[0mmemory_handler\u001b[0m\u001b[0;34m,\u001b[0m \u001b[0mel\u001b[0m\u001b[0;34m)\u001b[0m\u001b[0;34m:\u001b[0m\u001b[0;34m\u001b[0m\u001b[0m\n\u001b[0m\u001b[1;32m    245\u001b[0m                 \u001b[0mlog\u001b[0m\u001b[0;34m.\u001b[0m\u001b[0mwarning\u001b[0m\u001b[0;34m(\u001b[0m\u001b[0;34m'Found a self._ctypes in array/tuple'\u001b[0m\u001b[0;34m)\u001b[0m\u001b[0;34m\u001b[0m\u001b[0m\n\u001b[1;32m    246\u001b[0m                 \u001b[0;32mreturn\u001b[0m \u001b[0mTrue\u001b[0m\u001b[0;34m\u001b[0m\u001b[0m\n",
        "\u001b[0;32m/home/other/Compil/python-haystack/haystack/outputters/python.pyc\u001b[0m in \u001b[0;36mfindCtypesInPyObj\u001b[0;34m(memory_handler, obj)\u001b[0m\n\u001b[1;32m    237\u001b[0m     \u001b[0;34m\"\"\" check function to help in unpickling errors correction \"\"\"\u001b[0m\u001b[0;34m\u001b[0m\u001b[0m\n\u001b[1;32m    238\u001b[0m     \u001b[0;32mif\u001b[0m \u001b[0mhasattr\u001b[0m\u001b[0;34m(\u001b[0m\u001b[0mobj\u001b[0m\u001b[0;34m,\u001b[0m \u001b[0;34m'findCtypes'\u001b[0m\u001b[0;34m)\u001b[0m\u001b[0;34m:\u001b[0m\u001b[0;34m\u001b[0m\u001b[0m\n\u001b[0;32m--> 239\u001b[0;31m         \u001b[0;32mif\u001b[0m \u001b[0mobj\u001b[0m\u001b[0;34m.\u001b[0m\u001b[0mfindCtypes\u001b[0m\u001b[0;34m(\u001b[0m\u001b[0;34m)\u001b[0m\u001b[0;34m:\u001b[0m\u001b[0;34m\u001b[0m\u001b[0m\n\u001b[0m\u001b[1;32m    240\u001b[0m             \u001b[0mlog\u001b[0m\u001b[0;34m.\u001b[0m\u001b[0mwarning\u001b[0m\u001b[0;34m(\u001b[0m\u001b[0;34m'Found a self._ctypes in array/tuple'\u001b[0m\u001b[0;34m)\u001b[0m\u001b[0;34m\u001b[0m\u001b[0m\n\u001b[1;32m    241\u001b[0m             \u001b[0;32mreturn\u001b[0m \u001b[0mTrue\u001b[0m\u001b[0;34m\u001b[0m\u001b[0m\n",
        "\u001b[0;32m/home/other/Compil/python-haystack/haystack/outputters/python.pyc\u001b[0m in \u001b[0;36mfindCtypes\u001b[0;34m(self, cache)\u001b[0m\n\u001b[1;32m    204\u001b[0m             \u001b[0mattr\u001b[0m \u001b[0;34m=\u001b[0m \u001b[0mgetattr\u001b[0m\u001b[0;34m(\u001b[0m\u001b[0mself\u001b[0m\u001b[0;34m,\u001b[0m \u001b[0mattrname\u001b[0m\u001b[0;34m)\u001b[0m\u001b[0;34m\u001b[0m\u001b[0m\n\u001b[1;32m    205\u001b[0m             \u001b[0mlog\u001b[0m\u001b[0;34m.\u001b[0m\u001b[0mdebug\u001b[0m\u001b[0;34m(\u001b[0m\u001b[0;34m'findCtypes on attr %s'\u001b[0m \u001b[0;34m%\u001b[0m \u001b[0mattrname\u001b[0m\u001b[0;34m)\u001b[0m\u001b[0;34m\u001b[0m\u001b[0m\n\u001b[0;32m--> 206\u001b[0;31m             \u001b[0;32mif\u001b[0m \u001b[0mself\u001b[0m\u001b[0;34m.\u001b[0m\u001b[0m_attrFindCtypes\u001b[0m\u001b[0;34m(\u001b[0m\u001b[0mattr\u001b[0m\u001b[0;34m,\u001b[0m \u001b[0mattrname\u001b[0m\u001b[0;34m,\u001b[0m \u001b[0mtyp\u001b[0m\u001b[0;34m,\u001b[0m \u001b[0mcache\u001b[0m\u001b[0;34m)\u001b[0m\u001b[0;34m:\u001b[0m\u001b[0;34m\u001b[0m\u001b[0m\n\u001b[0m\u001b[1;32m    207\u001b[0m                 \u001b[0mlog\u001b[0m\u001b[0;34m.\u001b[0m\u001b[0mwarning\u001b[0m\u001b[0;34m(\u001b[0m\u001b[0;34m'Found a self._ctypes in %s'\u001b[0m \u001b[0;34m%\u001b[0m \u001b[0;34m(\u001b[0m\u001b[0mattrname\u001b[0m\u001b[0;34m)\u001b[0m\u001b[0;34m)\u001b[0m\u001b[0;34m\u001b[0m\u001b[0m\n\u001b[1;32m    208\u001b[0m                 \u001b[0mret\u001b[0m \u001b[0;34m=\u001b[0m \u001b[0mTrue\u001b[0m\u001b[0;34m\u001b[0m\u001b[0m\n",
        "\u001b[0;32m/home/other/Compil/python-haystack/haystack/outputters/python.pyc\u001b[0m in \u001b[0;36m_attrFindCtypes\u001b[0;34m(self, attr, attrname, typ, cache)\u001b[0m\n\u001b[1;32m    219\u001b[0m                     \u001b[0mlog\u001b[0m\u001b[0;34m.\u001b[0m\u001b[0mwarning\u001b[0m\u001b[0;34m(\u001b[0m\u001b[0;34m'Found a self._ctypes in array/tuple'\u001b[0m\u001b[0;34m)\u001b[0m\u001b[0;34m\u001b[0m\u001b[0m\n\u001b[1;32m    220\u001b[0m                     \u001b[0;32mreturn\u001b[0m \u001b[0mTrue\u001b[0m\u001b[0;34m\u001b[0m\u001b[0m\n\u001b[0;32m--> 221\u001b[0;31m         \u001b[0;32melif\u001b[0m \u001b[0mtypes\u001b[0m\u001b[0;34m.\u001b[0m\u001b[0mis_ctypes_instance\u001b[0m\u001b[0;34m(\u001b[0m\u001b[0mattr\u001b[0m\u001b[0;34m)\u001b[0m\u001b[0;34m:\u001b[0m\u001b[0;34m\u001b[0m\u001b[0m\n\u001b[0m\u001b[1;32m    222\u001b[0m             \u001b[0mlog\u001b[0m\u001b[0;34m.\u001b[0m\u001b[0mwarning\u001b[0m\u001b[0;34m(\u001b[0m\u001b[0;34m'Found a self._ctypes in self %s'\u001b[0m \u001b[0;34m%\u001b[0m \u001b[0;34m(\u001b[0m\u001b[0mattr\u001b[0m\u001b[0;34m)\u001b[0m\u001b[0;34m)\u001b[0m\u001b[0;34m\u001b[0m\u001b[0m\n\u001b[1;32m    223\u001b[0m             \u001b[0;32mreturn\u001b[0m \u001b[0mTrue\u001b[0m\u001b[0;34m\u001b[0m\u001b[0m\n",
        "\u001b[0;31mNameError\u001b[0m: global name 'types' is not defined"
       ]
      }
     ],
     "prompt_number": 8
    },
    {
     "cell_type": "code",
     "collapsed": false,
     "input": [],
     "language": "python",
     "metadata": {},
     "outputs": [],
     "prompt_number": 8
    },
    {
     "cell_type": "markdown",
     "metadata": {},
     "source": [
      "Then if we want to apply constraints"
     ]
    },
    {
     "cell_type": "code",
     "collapsed": false,
     "input": [
      "from haystack import constraints\n",
      "handler = constraints.ConstraintsConfigHandler()\n",
      "\n",
      "my_constraints = handler.read('../test/src/ctypes3.constraints')\n"
     ],
     "language": "python",
     "metadata": {},
     "outputs": [],
     "prompt_number": 9
    },
    {
     "cell_type": "code",
     "collapsed": false,
     "input": [],
     "language": "python",
     "metadata": {},
     "outputs": [],
     "prompt_number": 9
    }
   ],
   "metadata": {}
  }
 ]
}