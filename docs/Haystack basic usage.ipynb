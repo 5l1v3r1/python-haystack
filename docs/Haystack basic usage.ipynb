{
 "metadata": {
  "name": "",
  "signature": "sha256:33a454267eba731c18831151a5ba5f7e0981b709d8ec0a175e5f2ea859568708"
 },
 "nbformat": 3,
 "nbformat_minor": 0,
 "worksheets": [
  {
   "cells": [
    {
     "cell_type": "markdown",
     "metadata": {},
     "source": [
      "Let's look at a basic usage example for Haystack.\n",
      "\n",
      "First we have a program which allocates structures on the HEAP:"
     ]
    },
    {
     "cell_type": "code",
     "collapsed": true,
     "input": [
      "!cat ../test/src/test-ctypes3.c"
     ],
     "language": "python",
     "metadata": {},
     "outputs": [
      {
       "output_type": "stream",
       "stream": "stdout",
       "text": [
        "/*\r\n",
        "    Simple test of multiple simple structures allocations.\r\n",
        "*/\r\n",
        "\r\n",
        "#include <stdio.h>\r\n",
        "#include <stdlib.h>\r\n",
        "#include <unistd.h>\r\n",
        "#include <sys/types.h>\r\n",
        "#include <dlfcn.h>\r\n",
        "#include <stdbool.h>\r\n",
        "\r\n",
        "struct test3\r\n",
        "{\r\n",
        "  unsigned int val1;\r\n",
        "  unsigned int val2;\r\n",
        "  unsigned int * me;\r\n",
        "  unsigned int val2b;\r\n",
        "  unsigned int val1b;\r\n",
        "};\r\n",
        "\r\n",
        "struct Node {\r\n",
        "  unsigned int val1;\r\n",
        "  void * ptr1;\r\n",
        "  void * ptr2;\r\n",
        "};\r\n",
        "\r\n",
        "int test3(){\r\n",
        "  struct test3 * t3;\r\n",
        "  t3 = (struct test3 *) malloc(sizeof(struct test3));\r\n",
        "  t3->val1 = 0xdeadbeef;\r\n",
        "  t3->val1b = 0xdeadbeef;\r\n",
        "  t3->val2 = 0x10101010;\r\n",
        "  t3->val2b = 0x10101010;\r\n",
        "  t3->me = (unsigned int *) t3;\r\n",
        "  printf(\"o: test3 %p\\n\",t3);\r\n",
        "\r\n",
        "  return 0;\r\n",
        "}\r\n",
        "\r\n",
        "int test1(){\r\n",
        "  struct Node * node;\r\n",
        "  node = (struct Node *) malloc(sizeof(struct Node));\r\n",
        "  node->val1 = 0xdeadbeef;\r\n",
        "  node->ptr1 = node;\r\n",
        "  node->ptr2 = node;\r\n",
        "  printf(\"o: test1 %p\\n\",node);\r\n",
        "\r\n",
        "  return 0;\r\n",
        "}\r\n",
        "\r\n",
        "\r\n",
        "int main(){\r\n",
        "\r\n",
        "  // TEST\r\n",
        "  test1();\r\n",
        "  test3();\r\n",
        "  test1();\r\n",
        "  test3();\r\n",
        "  test1();\r\n",
        "  test3();\r\n",
        "\r\n",
        "  printf(\"pid %u\\n\",getpid());\r\n",
        "  fflush(stdout);\r\n",
        "  sleep(-1);\r\n",
        "\r\n",
        "  return 0;\r\n",
        "}\r\n",
        "\r\n",
        "\r\n"
       ]
      }
     ],
     "prompt_number": 2
    },
    {
     "cell_type": "markdown",
     "metadata": {},
     "source": [
      "Then, using ctypeslib, we have generated python ctypes records for the same structures."
     ]
    },
    {
     "cell_type": "code",
     "collapsed": false,
     "input": [
      "!clang2py ../test/src/test-ctypes3.c #-o ../test/src/clang3_gen64.py"
     ],
     "language": "python",
     "metadata": {},
     "outputs": [
      {
       "output_type": "stream",
       "stream": "stdout",
       "text": [
        "Traceback (most recent call last):\r\n",
        "  File \"/usr/local/bin/clang2py\", line 5, in <module>\r\n",
        "    from pkg_resources import require\r\n",
        "  File \"/usr/lib/python2.7/dist-packages/pkg_resources/__init__.py\", line 3020, in <module>\r\n",
        "    working_set = WorkingSet._build_master()\r\n",
        "  File \"/usr/lib/python2.7/dist-packages/pkg_resources/__init__.py\", line 616, in _build_master\r\n",
        "    return cls._build_from_requirements(__requires__)\r\n",
        "  File \"/usr/lib/python2.7/dist-packages/pkg_resources/__init__.py\", line 629, in _build_from_requirements\r\n",
        "    dists = ws.resolve(reqs, Environment())\r\n",
        "  File \"/usr/lib/python2.7/dist-packages/pkg_resources/__init__.py\", line 807, in resolve\r\n",
        "    raise DistributionNotFound(req)\r\n",
        "pkg_resources.DistributionNotFound: ctypeslib2==2.1.4pre\r\n"
       ]
      }
     ],
     "prompt_number": 3
    },
    {
     "cell_type": "markdown",
     "metadata": {},
     "source": [
      "We have run the compiled C program, and dumped its memory mappings to files:"
     ]
    },
    {
     "cell_type": "code",
     "collapsed": false,
     "input": [
      "!ls -hsw 1 ../test/src/test-ctypes3.64.dump/\n",
      "print ''\n",
      "!cat ../test/src/test-ctypes3.64.stdout"
     ],
     "language": "python",
     "metadata": {},
     "outputs": [
      {
       "output_type": "stream",
       "stream": "stdout",
       "text": [
        "total 2,3M\r\n",
        "4,0K 0x0000000000400000-0x0000000000401000\r\n",
        "4,0K 0x0000000000600000-0x0000000000601000\r\n",
        "132K 0x000000000072c000-0x000000000074d000\r\n",
        "1,8M 0x00007fb7519db000-0x00007fb751b9b000\r\n",
        " 16K 0x00007fb751d9b000-0x00007fb751d9f000\r\n",
        "8,0K 0x00007fb751d9f000-0x00007fb751da1000\r\n",
        " 16K 0x00007fb751da1000-0x00007fb751da5000\r\n",
        " 12K 0x00007fb751da5000-0x00007fb751da8000\r\n",
        "4,0K 0x00007fb751fa7000-0x00007fb751fa8000\r\n",
        "4,0K 0x00007fb751fa8000-0x00007fb751fa9000\r\n",
        "144K 0x00007fb751fa9000-0x00007fb751fcd000\r\n",
        " 12K 0x00007fb7521a2000-0x00007fb7521a5000\r\n",
        " 12K 0x00007fb7521c9000-0x00007fb7521cc000\r\n",
        "4,0K 0x00007fb7521cc000-0x00007fb7521cd000\r\n",
        "4,0K 0x00007fb7521cd000-0x00007fb7521ce000\r\n",
        "4,0K 0x00007fb7521ce000-0x00007fb7521cf000\r\n",
        "132K 0x00007ffcf8c6e000-0x00007ffcf8c8f000\r\n",
        "4,0K mappings\r\n"
       ]
      },
      {
       "output_type": "stream",
       "stream": "stdout",
       "text": [
        "\n",
        "o: test1 0x72c010\r\n",
        "o: test3 0x72c030\r\n",
        "o: test1 0x72c050\r\n",
        "o: test3 0x72c070\r\n",
        "o: test1 0x72c090\r\n",
        "o: test3 0x72c0b0\r\n",
        "pid 5931\r\n"
       ]
      }
     ],
     "prompt_number": 4
    },
    {
     "cell_type": "markdown",
     "metadata": {},
     "source": [
      "Let's load that memory dump in haystack."
     ]
    },
    {
     "cell_type": "code",
     "collapsed": false,
     "input": [
      "import haystack\n",
      "memdumpname = '../test/src/test-ctypes3.64.dump'\n",
      "# we need a memory dump loader\n",
      "from haystack import dump_loader\n",
      "memory_handler = dump_loader.load(memdumpname)\n",
      "print memory_handler"
     ],
     "language": "python",
     "metadata": {},
     "outputs": [
      {
       "ename": "ImportError",
       "evalue": "No module named haystack",
       "output_type": "pyerr",
       "traceback": [
        "\u001b[0;31m---------------------------------------------------------------------------\u001b[0m\n\u001b[0;31mImportError\u001b[0m                               Traceback (most recent call last)",
        "\u001b[0;32m<ipython-input-5-9b816f1e218f>\u001b[0m in \u001b[0;36m<module>\u001b[0;34m()\u001b[0m\n\u001b[0;32m----> 1\u001b[0;31m \u001b[0;32mimport\u001b[0m \u001b[0mhaystack\u001b[0m\u001b[0;34m\u001b[0m\u001b[0m\n\u001b[0m\u001b[1;32m      2\u001b[0m \u001b[0mmemdumpname\u001b[0m \u001b[0;34m=\u001b[0m \u001b[0;34m'../test/src/test-ctypes3.64.dump'\u001b[0m\u001b[0;34m\u001b[0m\u001b[0m\n\u001b[1;32m      3\u001b[0m \u001b[0;31m# we need a memory dump loader\u001b[0m\u001b[0;34m\u001b[0m\u001b[0;34m\u001b[0m\u001b[0m\n\u001b[1;32m      4\u001b[0m \u001b[0;32mfrom\u001b[0m \u001b[0mhaystack\u001b[0m \u001b[0;32mimport\u001b[0m \u001b[0mdump_loader\u001b[0m\u001b[0;34m\u001b[0m\u001b[0m\n\u001b[1;32m      5\u001b[0m \u001b[0mmemory_handler\u001b[0m \u001b[0;34m=\u001b[0m \u001b[0mdump_loader\u001b[0m\u001b[0;34m.\u001b[0m\u001b[0mload\u001b[0m\u001b[0;34m(\u001b[0m\u001b[0mmemdumpname\u001b[0m\u001b[0;34m)\u001b[0m\u001b[0;34m\u001b[0m\u001b[0m\n",
        "\u001b[0;31mImportError\u001b[0m: No module named haystack"
       ]
      }
     ],
     "prompt_number": 5
    },
    {
     "cell_type": "markdown",
     "metadata": {},
     "source": [
      "Now the first feature of haystack is to search a specific structure in memory."
     ]
    },
    {
     "cell_type": "code",
     "collapsed": false,
     "input": [
      "# we need to add our test path to the env\n",
      "import sys\n",
      "sys.path.append('../test/src/')\n",
      "py_modulename = 'ctypes3_gen64'\n",
      "\n",
      "# load this module with haystack\n",
      "my_model = memory_handler.get_model()\n",
      "test3 = my_model.import_module(\"ctypes3_gen64\")\n",
      "print test3.__dict__.keys()\n"
     ],
     "language": "python",
     "metadata": {},
     "outputs": []
    },
    {
     "cell_type": "markdown",
     "metadata": {},
     "source": [
      "Now we can search for the structure in memory."
     ]
    },
    {
     "cell_type": "code",
     "collapsed": false,
     "input": [
      "py_class = test3.struct_test3\n",
      "results = haystack.search_record(memory_handler, py_class)\n",
      "print results"
     ],
     "language": "python",
     "metadata": {},
     "outputs": []
    },
    {
     "cell_type": "markdown",
     "metadata": {},
     "source": [
      "The output is a list of ctypes records and their memory offset.\n",
      "We can also get a better formatted string output:"
     ]
    },
    {
     "cell_type": "code",
     "collapsed": false,
     "input": [
      "out = haystack.output_to_string(memory_handler, results)\n",
      "print out"
     ],
     "language": "python",
     "metadata": {},
     "outputs": []
    },
    {
     "cell_type": "markdown",
     "metadata": {},
     "source": [
      "Or even a translation of these records to plain old python dynamically generated objects."
     ]
    },
    {
     "cell_type": "code",
     "collapsed": false,
     "input": [
      "out = haystack.output_to_python(memory_handler, results)\n",
      "print out"
     ],
     "language": "python",
     "metadata": {},
     "outputs": []
    },
    {
     "cell_type": "code",
     "collapsed": false,
     "input": [
      "for x in out:\n",
      "    print \"@0x%x val1: 0x%x , val1b: 0x%x \"%(x[1], x[0].val1, x[0].val1b)"
     ],
     "language": "python",
     "metadata": {},
     "outputs": []
    },
    {
     "cell_type": "markdown",
     "metadata": {},
     "source": [
      "There should only be 3 of struct_test3.\n",
      "The true instance are at 0x202a030, 0x202a070 and 0x202a0b0\n",
      "\n",
      "oh-oh, there is a bit too many chunks in memory which could be possible struct_test3.\n",
      "\n",
      "Let's apply more constraints to the search"
     ]
    },
    {
     "cell_type": "code",
     "collapsed": false,
     "input": [
      "!cat ../test/src/ctypes3.constraints"
     ],
     "language": "python",
     "metadata": {},
     "outputs": []
    },
    {
     "cell_type": "markdown",
     "metadata": {},
     "source": [
      "Here we say that val1 and val1b fields should both be 0xdeadbeef.\n",
      "Let's apply these constraints to the search."
     ]
    },
    {
     "cell_type": "code",
     "collapsed": false,
     "input": [
      "from haystack import constraints\n",
      "handler = constraints.ConstraintsConfigHandler()\n",
      "my_constraints = handler.read('../test/src/ctypes3.constraints')\n",
      "\n",
      "# now use them\n",
      "results = haystack.search_record(memory_handler, py_class, my_constraints)\n",
      "print haystack.output_to_string(memory_handler, results)"
     ],
     "language": "python",
     "metadata": {},
     "outputs": []
    },
    {
     "cell_type": "code",
     "collapsed": false,
     "input": [
      "for x in results:\n",
      "    print \"@0x%x val1: 0x%x , val1b: 0x%x \"%(x[1], x[0].val1, x[0].val1b)"
     ],
     "language": "python",
     "metadata": {},
     "outputs": []
    },
    {
     "cell_type": "code",
     "collapsed": false,
     "input": [],
     "language": "python",
     "metadata": {},
     "outputs": []
    }
   ],
   "metadata": {}
  }
 ]
}