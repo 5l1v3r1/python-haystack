{
 "metadata": {
  "name": ""
 },
 "nbformat": 3,
 "nbformat_minor": 0,
 "worksheets": [
  {
   "cells": [
    {
     "cell_type": "markdown",
     "metadata": {},
     "source": [
      "Let's look at a basic usage example for Haystack.\n",
      "\n",
      "First we have a program which allocates structures on the HEAP:"
     ]
    },
    {
     "cell_type": "code",
     "collapsed": true,
     "input": [
      "!cat ../test/src/test-ctypes3.c"
     ],
     "language": "python",
     "metadata": {},
     "outputs": [
      {
       "output_type": "stream",
       "stream": "stdout",
       "text": [
        "/*\r\n",
        "    Simple test of multiple simple structures allocations.\r\n",
        "*/\r\n",
        "\r\n",
        "#include <stdio.h>\r\n",
        "#include <stdlib.h>\r\n",
        "#include <unistd.h>\r\n",
        "#include <sys/types.h>\r\n",
        "#include <dlfcn.h>\r\n",
        "#include <stdbool.h>\r\n",
        "\r\n",
        "struct test3\r\n",
        "{\r\n",
        "  unsigned int val1;\r\n",
        "  unsigned int val2;\r\n",
        "  unsigned int * me;\r\n",
        "  unsigned int val2b;\r\n",
        "  unsigned int val1b;\r\n",
        "};\r\n",
        "\r\n",
        "struct Node {\r\n",
        "  unsigned int val1;\r\n",
        "  void * ptr1;\r\n",
        "  void * ptr2;\r\n",
        "};\r\n",
        "\r\n",
        "int test3(){\r\n",
        "  struct test3 * t3;\r\n",
        "  t3 = (struct test3 *) malloc(sizeof(struct test3));\r\n",
        "  t3->val1 = 0xdeadbeef;\r\n",
        "  t3->val1b = 0xdeadbeef;\r\n",
        "  t3->val2 = 0x10101010;\r\n",
        "  t3->val2b = 0x10101010;\r\n",
        "  t3->me = (unsigned int *) t3;\r\n",
        "  printf(\"o: test3 %p\\n\",t3);\r\n",
        "\r\n",
        "  return 0;\r\n",
        "}\r\n",
        "\r\n",
        "int test1(){\r\n",
        "  struct Node * node;\r\n",
        "  node = (struct Node *) malloc(sizeof(struct Node));\r\n",
        "  node->val1 = 0xdeadbeef;\r\n",
        "  node->ptr1 = node;\r\n",
        "  node->ptr2 = node;\r\n",
        "  printf(\"o: test1 %p\\n\",node);\r\n",
        "\r\n",
        "  return 0;\r\n",
        "}\r\n",
        "\r\n",
        "\r\n",
        "int main(){\r\n",
        "\r\n",
        "  // TEST\r\n",
        "  test1();\r\n",
        "  test3();\r\n",
        "  test1();\r\n",
        "  test3();\r\n",
        "  test1();\r\n",
        "  test3();\r\n",
        "\r\n",
        "  printf(\"pid %u\\n\",getpid());\r\n",
        "  fflush(stdout);\r\n",
        "  sleep(-1);\r\n",
        "\r\n",
        "  return 0;\r\n",
        "}\r\n",
        "\r\n",
        "\r\n"
       ]
      }
     ],
     "prompt_number": 13
    },
    {
     "cell_type": "markdown",
     "metadata": {},
     "source": [
      "Then, using ctypeslib, we have generated python ctypes records for the same structures."
     ]
    },
    {
     "cell_type": "code",
     "collapsed": false,
     "input": [
      "!clang2py ../test/src/test-ctypes3.c #-o ../test/src/clang3_gen64.py"
     ],
     "language": "python",
     "metadata": {},
     "outputs": [
      {
       "output_type": "stream",
       "stream": "stdout",
       "text": [
        "find_library(\"clang-3.7\") libclang-3.7.so.1\r\n",
        "find_library(\"clang\") libclang.so.1\r\n"
       ]
      },
      {
       "output_type": "stream",
       "stream": "stdout",
       "text": [
        "# -*- coding: utf-8 -*-\r\n",
        "#\r\n",
        "# TARGET arch is: []\r\n",
        "# WORD_SIZE is: 8\r\n",
        "# POINTER_SIZE is: 8\r\n",
        "# LONGDOUBLE_SIZE is: 16\r\n",
        "#\r\n",
        "import ctypes\r\n",
        "\r\n",
        "\r\n",
        "# if local wordsize is same as target, keep ctypes pointer function.\r\n",
        "if ctypes.sizeof(ctypes.c_void_p) == 8:\r\n",
        "    POINTER_T = ctypes.POINTER\r\n",
        "else:\r\n",
        "    # required to access _ctypes\r\n",
        "    import _ctypes\r\n",
        "    # Emulate a pointer class using the approriate c_int32/c_int64 type\r\n",
        "    # The new class should have :\r\n",
        "    # ['__module__', 'from_param', '_type_', '__dict__', '__weakref__', '__doc__']\r\n",
        "    # but the class should be submitted to a unique instance for each base type\r\n",
        "    # to that if A == B, POINTER_T(A) == POINTER_T(B)\r\n",
        "    ctypes._pointer_t_type_cache = {}\r\n",
        "    def POINTER_T(pointee):\r\n",
        "        # a pointer should have the same length as LONG\r\n",
        "        fake_ptr_base_type = ctypes.c_uint64 \r\n",
        "        # specific case for c_void_p\r\n",
        "        if pointee is None: # VOID pointer type. c_void_p.\r\n",
        "            pointee = type(None) # ctypes.c_void_p # ctypes.c_ulong\r\n",
        "            clsname = 'c_void'\r\n",
        "        else:\r\n",
        "            clsname = pointee.__name__\r\n",
        "        if clsname in ctypes._pointer_t_type_cache:\r\n",
        "            return ctypes._pointer_t_type_cache[clsname]\r\n",
        "        # make template\r\n",
        "        class _T(_ctypes._SimpleCData,):\r\n",
        "            _type_ = 'L'\r\n",
        "            _subtype_ = pointee\r\n",
        "            def _sub_addr_(self):\r\n",
        "                return self.value\r\n",
        "            def __repr__(self):\r\n",
        "                return '%s(%d)'%(clsname, self.value)\r\n",
        "            def contents(self):\r\n",
        "                raise TypeError('This is not a ctypes pointer.')\r\n",
        "            def __init__(self, **args):\r\n",
        "                raise TypeError('This is not a ctypes pointer. It is not instanciable.')\r\n",
        "        _class = type('LP_%d_%s'%(8, clsname), (_T,),{}) \r\n",
        "        ctypes._pointer_t_type_cache[clsname] = _class\r\n",
        "        return _class\r\n",
        "\r\n",
        "c_int128 = ctypes.c_ubyte*16\r\n",
        "c_uint128 = c_int128\r\n",
        "void = None\r\n",
        "if ctypes.sizeof(ctypes.c_longdouble) == 16:\r\n",
        "    c_long_double_t = ctypes.c_longdouble\r\n",
        "else:\r\n",
        "    c_long_double_t = ctypes.c_ubyte*16\r\n",
        "\r\n",
        "\r\n",
        "\r\n",
        "class struct_test3(ctypes.Structure):\r\n",
        "    _pack_ = True # source:False\r\n",
        "    _fields_ = [\r\n",
        "    ('val1', ctypes.c_uint32),\r\n",
        "    ('val2', ctypes.c_uint32),\r\n",
        "    ('me', POINTER_T(ctypes.c_uint32)),\r\n",
        "    ('val2b', ctypes.c_uint32),\r\n",
        "    ('val1b', ctypes.c_uint32),\r\n",
        "     ]\r\n",
        "\r\n",
        "class struct_Node(ctypes.Structure):\r\n",
        "    _pack_ = True # source:False\r\n",
        "    _fields_ = [\r\n",
        "    ('val1', ctypes.c_uint32),\r\n",
        "    ('PADDING_0', ctypes.c_ubyte * 4),\r\n",
        "    ('ptr1', POINTER_T(None)),\r\n",
        "    ('ptr2', POINTER_T(None)),\r\n",
        "     ]\r\n",
        "\r\n",
        "__all__ = \\\r\n",
        "    ['struct_Node', 'struct_test3']\r\n"
       ]
      }
     ],
     "prompt_number": 14
    },
    {
     "cell_type": "markdown",
     "metadata": {},
     "source": [
      "We have run the compiled C program, and dumped its memory mappings to files:"
     ]
    },
    {
     "cell_type": "code",
     "collapsed": false,
     "input": [
      "!ls -hsw 1 ../test/src/test-ctypes3.64.dump/\n",
      "print ''\n",
      "!cat ../test/src/test-ctypes3.64.stdout"
     ],
     "language": "python",
     "metadata": {},
     "outputs": [
      {
       "output_type": "stream",
       "stream": "stdout",
       "text": [
        "total 2,3M\r\n",
        "4,0K 0x0000000000400000-0x0000000000401000\r\n",
        "4,0K 0x0000000000600000-0x0000000000601000\r\n",
        "4,0K 0x0000000000601000-0x0000000000602000\r\n",
        "132K 0x0000000001139000-0x000000000115a000\r\n",
        "140K 0x00002b73453de000-0x00002b7345401000\r\n",
        " 12K 0x00002b7345401000-0x00002b7345404000\r\n",
        " 12K 0x00002b7345426000-0x00002b7345429000\r\n",
        "4,0K 0x00002b7345600000-0x00002b7345601000\r\n",
        "4,0K 0x00002b7345601000-0x00002b7345602000\r\n",
        "4,0K 0x00002b7345602000-0x00002b7345603000\r\n",
        " 12K 0x00002b7345603000-0x00002b7345606000\r\n",
        "4,0K 0x00002b7345805000-0x00002b7345806000\r\n",
        "4,0K 0x00002b7345806000-0x00002b7345807000\r\n",
        "1,8M 0x00002b7345807000-0x00002b73459c2000\r\n",
        " 16K 0x00002b7345bc1000-0x00002b7345bc5000\r\n",
        "8,0K 0x00002b7345bc5000-0x00002b7345bc7000\r\n",
        " 20K 0x00002b7345bc7000-0x00002b7345bcc000\r\n",
        "132K 0x00007fffec550000-0x00007fffec571000\r\n",
        "4,0K mappings\r\n"
       ]
      },
      {
       "output_type": "stream",
       "stream": "stdout",
       "text": [
        "\n",
        "o: test1 0x1139010\r\n",
        "o: test3 0x1139030\r\n",
        "o: test1 0x1139050\r\n",
        "o: test3 0x1139070\r\n",
        "o: test1 0x1139090\r\n",
        "o: test3 0x11390b0\r\n",
        "pid 17320\r\n"
       ]
      }
     ],
     "prompt_number": 15
    },
    {
     "cell_type": "markdown",
     "metadata": {},
     "source": [
      "Let's load that memory dump in haystack."
     ]
    },
    {
     "cell_type": "code",
     "collapsed": false,
     "input": [
      "import haystack\n",
      "memdumpname = '../test/src/test-ctypes3.64.dump'\n",
      "# we need a memory dump loader\n",
      "from haystack import dump_loader\n",
      "memory_handler = dump_loader.load(memdumpname)\n",
      "print memory_handler"
     ],
     "language": "python",
     "metadata": {},
     "outputs": [
      {
       "output_type": "stream",
       "stream": "stdout",
       "text": [
        "<MemoryHandler for ../test/src/test-ctypes3.64.dump with 18 mappings>\n"
       ]
      }
     ],
     "prompt_number": 16
    },
    {
     "cell_type": "markdown",
     "metadata": {},
     "source": [
      "Now the first feature of haystack is to search a specific structure in memory."
     ]
    },
    {
     "cell_type": "code",
     "collapsed": false,
     "input": [
      "# we need to add our test path to the env\n",
      "import sys\n",
      "sys.path.append('../test/src/')\n",
      "py_modulename = 'ctypes3_gen64'\n",
      "\n",
      "# load this module with haystack\n",
      "my_model = memory_handler.get_model()\n",
      "test3 = my_model.import_module(\"ctypes3_gen64\")\n",
      "print test3.__dict__.keys()\n"
     ],
     "language": "python",
     "metadata": {},
     "outputs": [
      {
       "output_type": "stream",
       "stream": "stdout",
       "text": [
        "['struct_Node', 'c_int128', '__all__', '__builtins__', '__file__', 'c_uint128', 'struct_test3', '__package__', 'ctypes', 'void', 'POINTER_T', '__name__', 'c_long_double_t', '__doc__']\n"
       ]
      }
     ],
     "prompt_number": 17
    },
    {
     "cell_type": "markdown",
     "metadata": {},
     "source": [
      "Now we can search for the structure in memory."
     ]
    },
    {
     "cell_type": "code",
     "collapsed": false,
     "input": [
      "py_class = test3.struct_test3\n",
      "results = haystack.search_record(memory_handler, py_class)\n",
      "print results"
     ],
     "language": "python",
     "metadata": {},
     "outputs": [
      {
       "output_type": "stream",
       "stream": "stdout",
       "text": [
        "[(<ctypes3_gen64.struct_test3 object at 0x7f64e3e0b320>, 18059280), (<ctypes3_gen64.struct_test3 object at 0x7f64e3e1a7a0>, 18059312L), (<ctypes3_gen64.struct_test3 object at 0x7f64e3e1a8c0>, 18059344L), (<ctypes3_gen64.struct_test3 object at 0x7f64e3e1a9e0>, 18059376L), (<ctypes3_gen64.struct_test3 object at 0x7f64e3e1ab00>, 18059408L), (<ctypes3_gen64.struct_test3 object at 0x7f64e3e1ac20>, 18059440L)]\n"
       ]
      }
     ],
     "prompt_number": 18
    },
    {
     "cell_type": "markdown",
     "metadata": {},
     "source": [
      "The output is a list of ctypes records and their memory offset.\n",
      "We can also get a better formatted string output:"
     ]
    },
    {
     "cell_type": "code",
     "collapsed": false,
     "input": [
      "out = haystack.output_to_string(memory_handler, results)\n",
      "print out"
     ],
     "language": "python",
     "metadata": {},
     "outputs": [
      {
       "output_type": "stream",
       "stream": "stdout",
       "text": [
        "[# --------------- 0x1139010 \n",
        "{ # <struct_test3 at 0x1139010>\n",
        "\"val1\": 3735928559L, # c_uint\n",
        "\"val2\": 0L, # c_uint\n",
        "\"me\": 3735928559, # c_uint 0xdeadbeefL,\n",
        "\"val2b\": 18059280L, # c_uint\n",
        "\"val1b\": 0L, # c_uint\n",
        "}# --------------- 0x1139030 \n",
        "{ # <struct_test3 at 0x1139030>\n",
        "\"val1\": 3735928559L, # c_uint\n",
        "\"val2\": 269488144L, # c_uint\n",
        "\"me\": 3735928559, # c_uint 0xdeadbeefL,\n",
        "\"val2b\": 269488144L, # c_uint\n",
        "\"val1b\": 3735928559L, # c_uint\n",
        "}# --------------- 0x1139050 \n",
        "{ # <struct_test3 at 0x1139050>\n",
        "\"val1\": 3735928559L, # c_uint\n",
        "\"val2\": 0L, # c_uint\n",
        "\"me\": 3735928559, # c_uint 0xdeadbeefL,\n",
        "\"val2b\": 18059344L, # c_uint\n",
        "\"val1b\": 0L, # c_uint\n",
        "}# --------------- 0x1139070 \n",
        "{ # <struct_test3 at 0x1139070>\n",
        "\"val1\": 3735928559L, # c_uint\n",
        "\"val2\": 269488144L, # c_uint\n",
        "\"me\": 3735928559, # c_uint 0xdeadbeefL,\n",
        "\"val2b\": 269488144L, # c_uint\n",
        "\"val1b\": 3735928559L, # c_uint\n",
        "}# --------------- 0x1139090 \n",
        "{ # <struct_test3 at 0x1139090>\n",
        "\"val1\": 3735928559L, # c_uint\n",
        "\"val2\": 0L, # c_uint\n",
        "\"me\": 3735928559, # c_uint 0xdeadbeefL,\n",
        "\"val2b\": 18059408L, # c_uint\n",
        "\"val1b\": 0L, # c_uint\n",
        "}# --------------- 0x11390b0 \n",
        "{ # <struct_test3 at 0x11390b0>\n",
        "\"val1\": 3735928559L, # c_uint\n",
        "\"val2\": 269488144L, # c_uint\n",
        "\"me\": 3735928559, # c_uint 0xdeadbeefL,\n",
        "\"val2b\": 269488144L, # c_uint\n",
        "\"val1b\": 3735928559L, # c_uint\n",
        "}]\n"
       ]
      }
     ],
     "prompt_number": 19
    },
    {
     "cell_type": "markdown",
     "metadata": {},
     "source": [
      "Or even a translation of these records to plain old python dynamically generated objects."
     ]
    },
    {
     "cell_type": "code",
     "collapsed": false,
     "input": [
      "out = haystack.output_to_python(memory_handler, results)\n",
      "print out"
     ],
     "language": "python",
     "metadata": {},
     "outputs": [
      {
       "output_type": "stream",
       "stream": "stdout",
       "text": [
        "[(<haystack.model.ctypes3_gen64.struct_test3_py object at 0x7f64f9840fd0>, 18059280), (<haystack.model.ctypes3_gen64.struct_test3_py object at 0x7f64f8276d50>, 18059312L), (<haystack.model.ctypes3_gen64.struct_test3_py object at 0x7f64e3e0ae10>, 18059344L), (<haystack.model.ctypes3_gen64.struct_test3_py object at 0x7f64e3e179d0>, 18059376L), (<haystack.model.ctypes3_gen64.struct_test3_py object at 0x7f64e3e17a10>, 18059408L), (<haystack.model.ctypes3_gen64.struct_test3_py object at 0x7f64e3e17a50>, 18059440L)]\n"
       ]
      }
     ],
     "prompt_number": 20
    },
    {
     "cell_type": "code",
     "collapsed": false,
     "input": [
      "for x in out:\n",
      "    print \"@0x%x val1: 0x%x , val1b: 0x%x \"%(x[1], x[0].val1, x[0].val1b)"
     ],
     "language": "python",
     "metadata": {},
     "outputs": [
      {
       "output_type": "stream",
       "stream": "stdout",
       "text": [
        "@0x1139010 val1: 0xdeadbeef , val1b: 0x0 \n",
        "@0x1139030 val1: 0xdeadbeef , val1b: 0xdeadbeef \n",
        "@0x1139050 val1: 0xdeadbeef , val1b: 0x0 \n",
        "@0x1139070 val1: 0xdeadbeef , val1b: 0xdeadbeef \n",
        "@0x1139090 val1: 0xdeadbeef , val1b: 0x0 \n",
        "@0x11390b0 val1: 0xdeadbeef , val1b: 0xdeadbeef \n"
       ]
      }
     ],
     "prompt_number": 21
    },
    {
     "cell_type": "markdown",
     "metadata": {},
     "source": [
      "There should only be 3 of struct_test3.\n",
      "The true instance are at 0x202a030, 0x202a070 and 0x202a0b0\n",
      "\n",
      "oh-oh, there is a bit too many chunks in memory which could be possible struct_test3.\n",
      "\n",
      "Let's apply more constraints to the search"
     ]
    },
    {
     "cell_type": "code",
     "collapsed": false,
     "input": [
      "!cat ../test/src/ctypes3.constraints"
     ],
     "language": "python",
     "metadata": {},
     "outputs": [
      {
       "output_type": "stream",
       "stream": "stdout",
       "text": [
        "\r\n",
        "[struct_test3]\r\n",
        "val1: [0xdeadbeef]\r\n",
        "val1b: [0xdeadbeef]\r\n",
        "val2: [0x10101010]\r\n",
        "val2b: [0x10101010]\r\n",
        "\r\n",
        "\r\n",
        "[struct_Node]\r\n",
        "val1: [0xdeadbeef]\r\n",
        "ptr2: [NotNull]\r\n"
       ]
      }
     ],
     "prompt_number": 22
    },
    {
     "cell_type": "markdown",
     "metadata": {},
     "source": [
      "Here we say that val1 and val1b fields should both be 0xdeadbeef.\n",
      "Let's apply these constraints to the search."
     ]
    },
    {
     "cell_type": "code",
     "collapsed": false,
     "input": [
      "from haystack import constraints\n",
      "handler = constraints.ConstraintsConfigHandler()\n",
      "my_constraints = handler.read('../test/src/ctypes3.constraints')\n",
      "\n",
      "# now use them\n",
      "results = haystack.search_record(memory_handler, py_class, my_constraints)\n",
      "print haystack.output_to_string(memory_handler, results)"
     ],
     "language": "python",
     "metadata": {},
     "outputs": [
      {
       "output_type": "stream",
       "stream": "stdout",
       "text": [
        "[# --------------- 0x1139030 \n",
        "{ # <struct_test3 at 0x1139030>\n",
        "\"val1\": 3735928559L, # c_uint\n",
        "\"val2\": 269488144L, # c_uint\n",
        "\"me\": 3735928559, # c_uint 0xdeadbeefL,\n",
        "\"val2b\": 269488144L, # c_uint\n",
        "\"val1b\": 3735928559L, # c_uint\n",
        "}# --------------- 0x1139070 \n",
        "{ # <struct_test3 at 0x1139070>\n",
        "\"val1\": 3735928559L, # c_uint\n",
        "\"val2\": 269488144L, # c_uint\n",
        "\"me\": 3735928559, # c_uint 0xdeadbeefL,\n",
        "\"val2b\": 269488144L, # c_uint\n",
        "\"val1b\": 3735928559L, # c_uint\n",
        "}# --------------- 0x11390b0 \n",
        "{ # <struct_test3 at 0x11390b0>\n",
        "\"val1\": 3735928559L, # c_uint\n",
        "\"val2\": 269488144L, # c_uint\n",
        "\"me\": 3735928559, # c_uint 0xdeadbeefL,\n",
        "\"val2b\": 269488144L, # c_uint\n",
        "\"val1b\": 3735928559L, # c_uint\n",
        "}]\n"
       ]
      }
     ],
     "prompt_number": 23
    },
    {
     "cell_type": "code",
     "collapsed": false,
     "input": [
      "for x in results:\n",
      "    print \"@0x%x val1: 0x%x , val1b: 0x%x \"%(x[1], x[0].val1, x[0].val1b)"
     ],
     "language": "python",
     "metadata": {},
     "outputs": [
      {
       "output_type": "stream",
       "stream": "stdout",
       "text": [
        "@0x1139030 val1: 0xdeadbeef , val1b: 0xdeadbeef \n",
        "@0x1139070 val1: 0xdeadbeef , val1b: 0xdeadbeef \n",
        "@0x11390b0 val1: 0xdeadbeef , val1b: 0xdeadbeef \n"
       ]
      }
     ],
     "prompt_number": 24
    }
   ],
   "metadata": {}
  }
 ]
}