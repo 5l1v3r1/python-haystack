{
 "metadata": {
  "name": "Haystack & Volatility demo"
 },
 "nbformat": 3,
 "nbformat_minor": 0,
 "worksheets": [
  {
   "cells": [
    {
     "cell_type": "code",
     "collapsed": false,
     "input": "import haystack",
     "language": "python",
     "metadata": {},
     "outputs": [],
     "prompt_number": 1
    },
    {
     "cell_type": "code",
     "collapsed": false,
     "input": "f = '/home/other/outputs/vol/zeus.vmem'\npid = 676  # services.exe\nfrom haystack.mappings import vol\nmapper = vol.VolatilityProcessMapper(f, pid)\nmappings = mapper.getMappings()\n\nfrom haystack import abouchet\nstructType = abouchet.getKlass(classname)\nheaps = abouchet._search(mappings, structType, fullscan=True)\n\nfor x in mappings:\n    print x.start, \"Signature:\", hex(x.readStruct(x.start,winheap.HEAP).Signature)\n",
     "language": "python",
     "metadata": {},
     "outputs": [
      {
       "ename": "SystemExit",
       "evalue": "2",
       "output_type": "pyerr",
       "traceback": [
        "An exception has occurred, use %tb to see the full traceback.\n",
        "\u001b[0;31mSystemExit\u001b[0m\u001b[0;31m:\u001b[0m 2\n"
       ]
      }
     ],
     "prompt_number": 3
    },
    {
     "cell_type": "code",
     "collapsed": false,
     "input": "%tb",
     "language": "python",
     "metadata": {},
     "outputs": [
      {
       "ename": "AttributeError",
       "evalue": "'file' object has no attribute 'set_parent'",
       "output_type": "pyerr",
       "traceback": [
        "\u001b[0;31m---------------------------------------------------------------------------\u001b[0m\n\u001b[0;31mAttributeError\u001b[0m                            Traceback (most recent call last)",
        "\u001b[0;31mAttributeError\u001b[0m: 'file' object has no attribute 'set_parent'"
       ]
      }
     ],
     "prompt_number": 6
    },
    {
     "cell_type": "raw",
     "metadata": {},
     "source": "Seen in ipython console:\n\n*** Failed to import volatility.plugins.ssdt (NameError: name 'distorm3' is not defined)\n*** Failed to import volatility.plugins.malware.threads (NameError: name 'distorm3' is not defined)\n*** Failed to import volatility.plugins.mac.apihooks_kernel (ImportError: No module named distorm3)\n*** Failed to import volatility.plugins.linux.netscan (ImportError: No module named yara)\n*** Failed to import volatility.plugins.malware.apihooks (NameError: name 'distorm3' is not defined)\n*** Failed to import volatility.plugins.mac.check_syscall_shadow (ImportError: No module named distorm3)\n*** Failed to import volatility.plugins.dumpcerts (NameError: name 'yara' is not defined)\n*** Failed to import volatility.plugins.mac.apihooks (ImportError: No module named distorm3)\nUsage: -c [options]\n\n-c: error: no such option: --IPKernelApp.parent_appname\n"
    }
   ],
   "metadata": {}
  }
 ]
}